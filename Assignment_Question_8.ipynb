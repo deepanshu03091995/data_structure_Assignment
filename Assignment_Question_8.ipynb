{
 "cells": [
  {
   "cell_type": "markdown",
   "id": "f5d8878f",
   "metadata": {},
   "source": [
    "<aside>\n",
    "💡 **Question 1**\n",
    "\n",
    "Given two strings s1 and s2, return *the lowest **ASCII** sum of deleted characters to make two strings equal*.\n",
    "\n",
    "**Example 1:**\n",
    "\n",
    "**Input:** s1 = \"sea\", s2 = \"eat\"\n",
    "\n",
    "**Output:** 231\n",
    "\n",
    "**Explanation:** Deleting \"s\" from \"sea\" adds the ASCII value of \"s\" (115) to the sum.\n",
    "\n",
    "Deleting \"t\" from \"eat\" adds 116 to the sum.\n",
    "\n",
    "At the end, both strings are equal, and 115 + 116 = 231 is the minimum sum possible to achieve this.\n",
    "\n",
    "</aside>"
   ]
  },
  {
   "cell_type": "code",
   "execution_count": 1,
   "id": "fb53f74b",
   "metadata": {},
   "outputs": [
    {
     "name": "stdout",
     "output_type": "stream",
     "text": [
      "231\n"
     ]
    }
   ],
   "source": [
    "def minimumDeleteSum(s1, s2):\n",
    "    m, n = len(s1), len(s2)\n",
    "    dp = [[0] * (n + 1) for _ in range(m + 1)]\n",
    "\n",
    "    # Fill in the first row and first column\n",
    "    for i in range(1, m + 1):\n",
    "        dp[i][0] = dp[i-1][0] + ord(s1[i-1])\n",
    "\n",
    "    for j in range(1, n + 1):\n",
    "        dp[0][j] = dp[0][j-1] + ord(s2[j-1])\n",
    "\n",
    "    # Fill in the rest of the table\n",
    "    for i in range(1, m + 1):\n",
    "        for j in range(1, n + 1):\n",
    "            if s1[i-1] == s2[j-1]:\n",
    "                dp[i][j] = dp[i-1][j-1]\n",
    "            else:\n",
    "                dp[i][j] = min(dp[i-1][j] + ord(s1[i-1]), dp[i][j-1] + ord(s2[j-1]))\n",
    "\n",
    "    return dp[m][n]\n",
    "s1 = \"sea\"\n",
    "s2 = \"eat\"\n",
    "print(minimumDeleteSum(s1, s2))\n"
   ]
  },
  {
   "cell_type": "markdown",
   "id": "16880626",
   "metadata": {},
   "source": [
    "<aside>\n",
    "💡 **Question 2**\n",
    "\n",
    "Given a string s containing only three types of characters: '(', ')' and '*', return true *if* s *is **valid***.\n",
    "\n",
    "The following rules define a **valid** string:\n",
    "\n",
    "- Any left parenthesis '(' must have a corresponding right parenthesis ')'.\n",
    "- Any right parenthesis ')' must have a corresponding left parenthesis '('.\n",
    "- Left parenthesis '(' must go before the corresponding right parenthesis ')'.\n",
    "- '*' could be treated as a single right parenthesis ')' or a single left parenthesis '(' or an empty string \"\".\n",
    "\n",
    "**Example 1:**\n",
    "\n",
    "**Input:** s = \"()\"\n",
    "\n",
    "**Output:**\n",
    "\n",
    "true\n",
    "\n",
    "</aside>"
   ]
  },
  {
   "cell_type": "code",
   "execution_count": 2,
   "id": "627dd39a",
   "metadata": {},
   "outputs": [
    {
     "name": "stdout",
     "output_type": "stream",
     "text": [
      "True\n"
     ]
    }
   ],
   "source": [
    "def checkValidString(s):\n",
    "    stack = []\n",
    "    star_stack = []\n",
    "\n",
    "    for i, char in enumerate(s):\n",
    "        if char == '(':\n",
    "            stack.append(i)\n",
    "        elif char == '*':\n",
    "            star_stack.append(i)\n",
    "        else:  # char == ')'\n",
    "            if stack:\n",
    "                stack.pop()\n",
    "            elif star_stack:\n",
    "                star_stack.pop()\n",
    "            else:\n",
    "                return False\n",
    "\n",
    "    # Match remaining '(' and '*' with ')'\n",
    "    while stack and star_stack:\n",
    "        if stack[-1] < star_stack[-1]:\n",
    "            stack.pop()\n",
    "            star_stack.pop()\n",
    "        else:\n",
    "            return False\n",
    "\n",
    "    return len(stack) == 0\n",
    "\n",
    "\n",
    "s = \"()\"\n",
    "print(checkValidString(s))\n"
   ]
  },
  {
   "cell_type": "markdown",
   "id": "c2620167",
   "metadata": {},
   "source": [
    "<aside>\n",
    "💡 **Question 3**\n",
    "\n",
    "Given two strings word1 and word2, return *the minimum number of **steps** required to make* word1 *and* word2 *the same*.\n",
    "\n",
    "In one **step**, you can delete exactly one character in either string.\n",
    "\n",
    "**Example 1:**\n",
    "\n",
    "**Input:** word1 = \"sea\", word2 = \"eat\"\n",
    "\n",
    "**Output:** 2\n",
    "\n",
    "**Explanation:** You need one step to make \"sea\" to \"ea\" and another step to make \"eat\" to \"ea\".\n",
    "\n",
    "</aside>"
   ]
  },
  {
   "cell_type": "code",
   "execution_count": 4,
   "id": "11b6a70d",
   "metadata": {},
   "outputs": [
    {
     "name": "stdout",
     "output_type": "stream",
     "text": [
      "2\n"
     ]
    }
   ],
   "source": [
    "import math\n",
    "def minDistance(word1: str, word2: str) -> int:\n",
    "\tmin_distance_dp = [[i for i in range(len(word2)+1)]] + [[i] + [math.inf] * (len(word2)) for i in range(1, len(word1)+1)]\n",
    "\n",
    "\tfor i in range(len(word1)):\n",
    "\t\tfor j in range(len(word2)):\n",
    "\t\t\tmin_distance_dp[i + 1][j + 1] = min_distance_dp[i][j] if word1[i] == word2[j] else min(min_distance_dp[i+1][j], min_distance_dp[i][j+1]) + 1\n",
    "\n",
    "\treturn min_distance_dp[-1][-1]\n",
    "\n",
    "word1=\"sea\"\n",
    "word2=\"eat\"\n",
    "\n",
    "result=minDistance(word1,word2)\n",
    "\n",
    "print(result)"
   ]
  },
  {
   "cell_type": "markdown",
   "id": "2571957b",
   "metadata": {},
   "source": [
    "<aside>\n",
    "💡 **Question 4**\n",
    "\n",
    "You need to construct a binary tree from a string consisting of parenthesis and integers.\n",
    "\n",
    "The whole input represents a binary tree. It contains an integer followed by zero, one or two pairs of parenthesis. The integer represents the root's value and a pair of parenthesis contains a child binary tree with the same structure.\n",
    "You always start to construct the **left** child node of the parent first if it exists.\n",
    "\n",
    "</aside>"
   ]
  },
  {
   "cell_type": "code",
   "execution_count": 7,
   "id": "a6d23ad1",
   "metadata": {},
   "outputs": [],
   "source": [
    "class TreeNode:\n",
    "    def __init__(self, value):\n",
    "        self.val = value\n",
    "        self.left = None\n",
    "        self.right = None\n",
    "\n",
    "def construct_binary_tree(s):\n",
    "    stack = []\n",
    "    i = 0\n",
    "    while i < len(s):\n",
    "        if s[i] == '(':\n",
    "            i += 1\n",
    "        elif s[i].isdigit() or s[i] == '-':\n",
    "            j = i\n",
    "            while i < len(s) - 1 and (s[i + 1].isdigit() or s[i + 1] == '-'):\n",
    "                i += 1\n",
    "            num = int(s[j:i + 1])\n",
    "            node = TreeNode(num)\n",
    "            if stack:\n",
    "                parent = stack[-1]\n",
    "                if not parent.left:\n",
    "                    parent.left = node\n",
    "                else:\n",
    "                    parent.right = node\n",
    "            stack.append(node)\n",
    "            i += 1\n",
    "        elif s[i] == ')':\n",
    "            stack.pop()\n",
    "            i += 1\n",
    "        else:\n",
    "            i += 1\n",
    "    return stack[0] if stack else None\n",
    "\n",
    "tree_string = \"4(2(3)(1))(6(5))\"\n",
    "root = construct_binary_tree(tree_string)\n",
    "\n"
   ]
  },
  {
   "cell_type": "markdown",
   "id": "ebb16180",
   "metadata": {},
   "source": [
    "<aside>\n",
    "💡 **Question 5**\n",
    "\n",
    "Given an array of characters chars, compress it using the following algorithm:\n",
    "\n",
    "Begin with an empty string s. For each group of **consecutive repeating characters** in chars:\n",
    "\n",
    "- If the group's length is 1, append the character to s.\n",
    "- Otherwise, append the character followed by the group's length.\n",
    "\n",
    "The compressed string s **should not be returned separately**, but instead, be stored **in the input character array chars**. Note that group lengths that are 10 or longer will be split into multiple characters in chars.\n",
    "\n",
    "After you are done **modifying the input array,** return *the new length of the array*.\n",
    "\n",
    "You must write an algorithm that uses only constant extra space.\n",
    "\n",
    "**Example 1:**\n",
    "\n",
    "**Input:** chars = [\"a\",\"a\",\"b\",\"b\",\"c\",\"c\",\"c\"]\n",
    "\n",
    "**Output:** Return 6, and the first 6 characters of the input array should be: [\"a\",\"2\",\"b\",\"2\",\"c\",\"3\"]\n",
    "\n",
    "**Explanation:**\n",
    "\n",
    "The groups are \"aa\", \"bb\", and \"ccc\". This compresses to \"a2b2c3\".\n",
    "\n",
    "</aside>"
   ]
  },
  {
   "cell_type": "code",
   "execution_count": 8,
   "id": "3b4adc4f",
   "metadata": {},
   "outputs": [
    {
     "name": "stdout",
     "output_type": "stream",
     "text": [
      "6\n",
      "['a', '2', 'b', '2', 'c', '3']\n"
     ]
    }
   ],
   "source": [
    "def compress(chars):\n",
    "    read = write = 0\n",
    "    count = 1\n",
    "\n",
    "    for read in range(1, len(chars)):\n",
    "        if chars[read] == chars[read - 1]:\n",
    "            count += 1\n",
    "        else:\n",
    "            chars[write] = chars[read - 1]\n",
    "            write += 1\n",
    "            if count > 1:\n",
    "                count_str = str(count)\n",
    "                for digit in count_str:\n",
    "                    chars[write] = digit\n",
    "                    write += 1\n",
    "            count = 1\n",
    "\n",
    "    chars[write] = chars[read]\n",
    "    write += 1\n",
    "    if count > 1:\n",
    "        count_str = str(count)\n",
    "        for digit in count_str:\n",
    "            chars[write] = digit\n",
    "            write += 1\n",
    "\n",
    "    return write\n",
    "\n",
    "\n",
    "chars = [\"a\", \"a\", \"b\", \"b\", \"c\", \"c\", \"c\"]\n",
    "compressed_length = compress(chars)\n",
    "compressed_array = chars[:compressed_length]\n",
    "print(compressed_length)\n",
    "print(compressed_array)\n"
   ]
  },
  {
   "cell_type": "markdown",
   "id": "c17fbf84",
   "metadata": {},
   "source": [
    "<aside>\n",
    "💡 **Question 6**\n",
    "\n",
    "Given two strings s and p, return *an array of all the start indices of* p*'s anagrams in* s. You may return the answer in **any order**.\n",
    "\n",
    "An **Anagram** is a word or phrase formed by rearranging the letters of a different word or phrase, typically using all the original letters exactly once.\n",
    "\n",
    "**Example 1:**\n",
    "\n",
    "**Input:** s = \"cbaebabacd\", p = \"abc\"\n",
    "\n",
    "**Output:** [0,6]\n",
    "\n",
    "**Explanation:**\n",
    "\n",
    "The substring with start index = 0 is \"cba\", which is an anagram of \"abc\".\n",
    "\n",
    "The substring with start index = 6 is \"bac\", which is an anagram of \"abc\".\n",
    "\n",
    "</aside>"
   ]
  },
  {
   "cell_type": "code",
   "execution_count": 9,
   "id": "bc3f5d1e",
   "metadata": {},
   "outputs": [
    {
     "name": "stdout",
     "output_type": "stream",
     "text": [
      "[0, 6]\n"
     ]
    }
   ],
   "source": [
    "from collections import Counter\n",
    "\n",
    "def find_anagrams(s, p):\n",
    "    target_freq = Counter(p)\n",
    "    window_freq = Counter()\n",
    "    result = []\n",
    "\n",
    "    left = right = 0\n",
    "    while right < len(s):\n",
    "        window_freq[s[right]] += 1\n",
    "        if right - left + 1 > len(p):\n",
    "            window_freq[s[left]] -= 1\n",
    "            if window_freq[s[left]] == 0:\n",
    "                del window_freq[s[left]]\n",
    "            left += 1\n",
    "\n",
    "        if window_freq == target_freq:\n",
    "            result.append(left)\n",
    "\n",
    "        right += 1\n",
    "\n",
    "    return result\n",
    "s = \"cbaebabacd\"\n",
    "p = \"abc\"\n",
    "indices = find_anagrams(s, p)\n",
    "print(indices)\n"
   ]
  },
  {
   "cell_type": "markdown",
   "id": "7184e0d8",
   "metadata": {},
   "source": [
    "<aside>\n",
    "💡 **Question 7**\n",
    "\n",
    "Given an encoded string, return its decoded string.\n",
    "\n",
    "The encoding rule is: k[encoded_string], where the encoded_string inside the square brackets is being repeated exactly k times. Note that k is guaranteed to be a positive integer.\n",
    "\n",
    "You may assume that the input string is always valid; there are no extra white spaces, square brackets are well-formed, etc. Furthermore, you may assume that the original data does not contain any digits and that digits are only for those repeat numbers, k. For example, there will not be input like 3a or 2[4].\n",
    "\n",
    "The test cases are generated so that the length of the output will never exceed 105.\n",
    "\n",
    "**Example 1:**\n",
    "\n",
    "**Input:** s = \"3[a]2[bc]\"\n",
    "\n",
    "**Output:** \"aaabcbc\"\n",
    "\n",
    "</aside>"
   ]
  },
  {
   "cell_type": "code",
   "execution_count": 23,
   "id": "66cfc984",
   "metadata": {},
   "outputs": [
    {
     "name": "stdout",
     "output_type": "stream",
     "text": [
      "bcbcaaa\n"
     ]
    }
   ],
   "source": [
    "def decode_string(s):\n",
    "    stack = []\n",
    "\n",
    "    for char in s:\n",
    "        if char != ']':\n",
    "            stack.append(char)\n",
    "        else:\n",
    "            decoded_string = ''\n",
    "            while stack and stack[-1] != '[':\n",
    "                decoded_string += stack.pop()\n",
    "            stack.pop()  # Pop the '[' character\n",
    "\n",
    "            count = ''\n",
    "            while stack and stack[-1].isdigit():\n",
    "                count = stack.pop() + count\n",
    "\n",
    "            count = int(count)\n",
    "            decoded_string = decoded_string[::-1] * count\n",
    "            stack.append(decoded_string)\n",
    "\n",
    "    return ''.join(stack[::-1])\n",
    "\n",
    "s = \"3[a]2[bc]\"\n",
    "decoded_string = decode_string(s)\n",
    "print(decoded_string)\n"
   ]
  },
  {
   "cell_type": "markdown",
   "id": "63818895",
   "metadata": {},
   "source": [
    "<aside>\n",
    "💡 **Question 8**\n",
    "\n",
    "Given two strings s and goal, return true *if you can swap two letters in* s *so the result is equal to* goal*, otherwise, return* false*.*\n",
    "\n",
    "Swapping letters is defined as taking two indices i and j (0-indexed) such that i != j and swapping the characters at s[i] and s[j].\n",
    "\n",
    "- For example, swapping at indices 0 and 2 in \"abcd\" results in \"cbad\".\n",
    "\n",
    "**Example 1:**\n",
    "\n",
    "**Input:** s = \"ab\", goal = \"ba\"\n",
    "\n",
    "**Output:** true\n",
    "\n",
    "**Explanation:** You can swap s[0] = 'a' and s[1] = 'b' to get \"ba\", which is equal to goal.\n",
    "\n",
    "</aside>"
   ]
  },
  {
   "cell_type": "code",
   "execution_count": 24,
   "id": "36ca6de9",
   "metadata": {},
   "outputs": [
    {
     "name": "stdout",
     "output_type": "stream",
     "text": [
      "True\n"
     ]
    }
   ],
   "source": [
    "def buddy_strings(s, goal):\n",
    "    if len(s) != len(goal):\n",
    "        return False\n",
    "\n",
    "    diff_indices = []\n",
    "    diff_chars = []\n",
    "\n",
    "    for i in range(len(s)):\n",
    "        if s[i] != goal[i]:\n",
    "            diff_indices.append(i)\n",
    "            diff_chars.append(s[i])\n",
    "\n",
    "    if len(diff_indices) == 2 and s[diff_indices[0]] == goal[diff_indices[1]] and s[diff_indices[1]] == goal[diff_indices[0]]:\n",
    "        return True\n",
    "\n",
    "    if len(diff_indices) == 0 and len(set(s)) < len(s):\n",
    "        return True\n",
    "\n",
    "    return False\n",
    "s = \"ab\"\n",
    "goal = \"ba\"\n",
    "can_swap = buddy_strings(s, goal)\n",
    "print(can_swap)\n"
   ]
  },
  {
   "cell_type": "code",
   "execution_count": null,
   "id": "3acdb058",
   "metadata": {},
   "outputs": [],
   "source": []
  }
 ],
 "metadata": {
  "kernelspec": {
   "display_name": "Python 3 (ipykernel)",
   "language": "python",
   "name": "python3"
  },
  "language_info": {
   "codemirror_mode": {
    "name": "ipython",
    "version": 3
   },
   "file_extension": ".py",
   "mimetype": "text/x-python",
   "name": "python",
   "nbconvert_exporter": "python",
   "pygments_lexer": "ipython3",
   "version": "3.9.0"
  }
 },
 "nbformat": 4,
 "nbformat_minor": 5
}
