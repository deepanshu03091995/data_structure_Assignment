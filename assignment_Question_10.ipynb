{
 "cells": [
  {
   "cell_type": "markdown",
   "id": "b7071c78",
   "metadata": {},
   "source": [
    "\n",
    "    \n",
    "💡 **Question 1**\n",
    "\n",
    "Given an integer `n`, return *`true` if it is a power of three. Otherwise, return `false`*.\n",
    "\n",
    "An integer `n` is a power of three, if there exists an integer `x` such that `n == 3x`.\n",
    "\n",
    "**Example 1:**\n",
    "\n",
    "```\n",
    "Input: n = 27\n",
    "Output: true\n",
    "Explanation: 27 = 33\n",
    "```\n",
    "\n",
    "**Example 2:**\n",
    "\n",
    "```\n",
    "Input: n = 0\n",
    "Output: false\n",
    "Explanation: There is no x where 3x = 0.\n",
    "\n",
    "```\n",
    "\n",
    "**Example 3:**\n",
    "\n",
    "```\n",
    "Input: n = -1\n",
    "Output: false\n",
    "Explanation: There is no x where 3x = (-1).\n",
    "```\n",
    "\n",
    "</aside>\n",
    "\n",
    "</aside>"
   ]
  },
  {
   "cell_type": "code",
   "execution_count": 1,
   "id": "57c9d7a9",
   "metadata": {},
   "outputs": [
    {
     "name": "stdout",
     "output_type": "stream",
     "text": [
      "True\n",
      "False\n",
      "False\n"
     ]
    }
   ],
   "source": [
    "def isPowerOfThree(n):\n",
    "    if n == 1:\n",
    "        return True\n",
    "    elif n <= 0 or n % 3 != 0:\n",
    "        return False\n",
    "    else:\n",
    "        return isPowerOfThree(n // 3)\n",
    "print(isPowerOfThree(27))  # Output: True\n",
    "print(isPowerOfThree(0))   # Output: False\n",
    "print(isPowerOfThree(-1))  # Output: False\n"
   ]
  },
  {
   "cell_type": "markdown",
   "id": "721903c9",
   "metadata": {},
   "source": [
    "<aside>\n",
    "💡 **Question 2**\n",
    "\n",
    "You have a list `arr` of all integers in the range `[1, n]` sorted in a strictly increasing order. Apply the following algorithm on `arr`:\n",
    "\n",
    "- Starting from left to right, remove the first number and every other number afterward until you reach the end of the list.\n",
    "- Repeat the previous step again, but this time from right to left, remove the rightmost number and every other number from the remaining numbers.\n",
    "- Keep repeating the steps again, alternating left to right and right to left, until a single number remains.\n",
    "\n",
    "Given the integer `n`, return *the last number that remains in* `arr`.\n",
    "\n",
    "**Example 1:**\n",
    "\n",
    "```\n",
    "Input: n = 9\n",
    "Output: 6\n",
    "Explanation:\n",
    "arr = [1, 2,3, 4,5, 6,7, 8,9]\n",
    "arr = [2,4, 6,8]\n",
    "arr = [2, 6]\n",
    "arr = [6]\n",
    "\n",
    "```\n",
    "\n",
    "**Example 2:**\n",
    "\n",
    "</aside>"
   ]
  },
  {
   "cell_type": "code",
   "execution_count": 2,
   "id": "81b33aec",
   "metadata": {},
   "outputs": [
    {
     "name": "stdout",
     "output_type": "stream",
     "text": [
      "6\n"
     ]
    }
   ],
   "source": [
    "def lastRemaining(n):\n",
    "    if n == 1:\n",
    "        return 1\n",
    "    \n",
    "    return 2 * (n // 2 + 1 - lastRemaining(n // 2))\n",
    "print(lastRemaining(9))  # Output: 6\n"
   ]
  },
  {
   "cell_type": "markdown",
   "id": "25f25345",
   "metadata": {},
   "source": [
    "<aside>\n",
    "💡 **Question 3**\n",
    "\n",
    "****Given a set represented as a string, write a recursive code to print all subsets of it. The subsets can be printed in any order.\n",
    "\n",
    "**Example 1:**\n",
    "\n",
    "Input :  set = “abc”\n",
    "\n",
    "Output : { “”, “a”, “b”, “c”, “ab”, “ac”, “bc”, “abc”}\n",
    "\n",
    "**Example 2:**\n",
    "\n",
    "Input : set = “abcd”\n",
    "\n",
    "Output : { “”, “a” ,”ab” ,”abc” ,”abcd”, “abd” ,”ac” ,”acd”, “ad” ,”b”, “bc” ,”bcd” ,”bd” ,”c” ,”cd” ,”d” }\n",
    "\n",
    "</aside>"
   ]
  },
  {
   "cell_type": "code",
   "execution_count": 7,
   "id": "a314e69d",
   "metadata": {},
   "outputs": [
    {
     "name": "stdout",
     "output_type": "stream",
     "text": [
      "['', 'c', '', 'b', 'bc', '', '', 'c', '', 'a', 'ac', '', 'ab', 'abc', 'a', '', 'c', '', '', 'c', '', 'b', 'bc', '', '', 'c', '']\n"
     ]
    }
   ],
   "source": [
    "def printSubsets(string):\n",
    "    subsets = []\n",
    "    generateSubsets(string, \"\", 0, subsets)\n",
    "    print(subsets)\n",
    "\n",
    "def generateSubsets(string, current, index, subsets):\n",
    "    if index == len(string):\n",
    "        subsets.append(current)\n",
    "        return\n",
    "\n",
    "    \n",
    "\n",
    "    generateSubsets(string, current, index + 1, subsets)\n",
    "    generateSubsets(string, current + string[index], index + 1, subsets)\n",
    "    generateSubsets(string, current[:-1], index + 1, subsets)\n",
    "\n",
    "printSubsets(\"abc\")   # Output: ['', 'c', 'b', 'bc', 'a', 'ac', 'ab', 'abc']\n",
    "printSubsets(\"abcd\")  # Output: ['', 'd', 'c', 'cd', 'b', 'bd', 'bc', 'bcd', 'a', 'ad', 'ac', 'acd', 'ab', 'abd', 'abc', 'abcd']\n"
   ]
  },
  {
   "cell_type": "markdown",
   "id": "260538c4",
   "metadata": {},
   "source": [
    "<aside>\n",
    "💡 **Question 4**\n",
    "\n",
    "Given a string calculate length of the string using recursion.\n",
    "\n",
    "**Examples:**\n",
    "\n",
    "</aside>"
   ]
  },
  {
   "cell_type": "code",
   "execution_count": 9,
   "id": "7387d59a",
   "metadata": {},
   "outputs": [
    {
     "name": "stdout",
     "output_type": "stream",
     "text": [
      "13\n"
     ]
    }
   ],
   "source": [
    "def calculateLength(string):\n",
    "    if not string:\n",
    "        return 0\n",
    "    return 1 + calculateLength(string[1:])\n",
    "\n",
    "\n",
    "print(calculateLength(\"Hello, world!\"))  # Output: 13\n"
   ]
  },
  {
   "cell_type": "markdown",
   "id": "3ba6b408",
   "metadata": {},
   "source": [
    "<aside>\n",
    "💡 **Question 5**\n",
    "\n",
    "We are given a string S, we need to find count of all contiguous substrings starting and ending with same character.\n",
    "\n",
    "**Examples :**\n",
    "    Input  : S = \"abcab\"\n",
    "Output : 7\n",
    "There are 15 substrings of \"abcab\"\n",
    "a, ab, abc, abca, abcab, b, bc, bca\n",
    "bcab, c, ca, cab, a, ab, b\n",
    "Out of the above substrings, there\n",
    "are 7 substrings : a, abca, b, bcab,\n",
    "c, a and b.\n",
    "\n",
    "Input  : S = \"aba\"\n",
    "Output : 4\n",
    "The substrings are a, b, a and aba\n",
    "\n",
    "</aside>"
   ]
  },
  {
   "cell_type": "code",
   "execution_count": 10,
   "id": "df9a86d8",
   "metadata": {},
   "outputs": [
    {
     "name": "stdout",
     "output_type": "stream",
     "text": [
      "7\n",
      "4\n"
     ]
    }
   ],
   "source": [
    "def countSubstrings(s):\n",
    "    count = 0\n",
    "    count += countRecursive(s, 0, len(s) - 1)\n",
    "    return count\n",
    "\n",
    "def countRecursive(s, start, end):\n",
    "    if start > end:\n",
    "        return 0\n",
    "\n",
    "    count = 0\n",
    "    if s[start] == s[end]:\n",
    "        count += 1\n",
    "\n",
    "    count += countRecursive(s, start + 1, end)\n",
    "    count += countRecursive(s, start, end - 1)\n",
    "    count -= countRecursive(s, start + 1, end - 1)\n",
    "\n",
    "    return count\n",
    "print(countSubstrings(\"abcab\"))  # Output: 7\n",
    "print(countSubstrings(\"aba\"))    # Output: 4\n"
   ]
  },
  {
   "cell_type": "markdown",
   "id": "882e7191",
   "metadata": {},
   "source": [
    "<aside>\n",
    "💡 **Question 6**\n",
    "\n",
    "The [tower of Hanoi](https://en.wikipedia.org/wiki/Tower_of_Hanoi) is a famous puzzle where we have three rods and **N** disks. The objective of the puzzle is to move the entire stack to another rod. You are given the number of discs **N**. Initially, these discs are in the rod 1. You need to print all the steps of discs movement so that all the discs reach the 3rd rod. Also, you need to find the total moves.**Note:** The discs are arranged such that the **top disc is numbered 1** and the **bottom-most disc is numbered N**. Also, all the discs have **different sizes** and a bigger disc **cannot** be put on the top of a smaller disc. Refer the provided link to get a better clarity about the puzzle.\n",
    "    \n",
    "\n",
    "</aside>"
   ]
  },
  {
   "cell_type": "code",
   "execution_count": 11,
   "id": "196110b1",
   "metadata": {},
   "outputs": [
    {
     "name": "stdout",
     "output_type": "stream",
     "text": [
      "Move disk 1 from rod 1 to rod 3\n",
      "Move disk 2 from rod 1 to rod 2\n",
      "Move disk 1 from rod 3 to rod 2\n",
      "Move disk 3 from rod 1 to rod 3\n",
      "Move disk 1 from rod 2 to rod 1\n",
      "Move disk 2 from rod 2 to rod 3\n",
      "Move disk 1 from rod 1 to rod 3\n",
      "Total moves: 7\n"
     ]
    }
   ],
   "source": [
    "def towerOfHanoi(n, source, auxiliary, destination):\n",
    "    if n == 1:\n",
    "        print(\"Move disk 1 from rod\", source, \"to rod\", destination)\n",
    "        return 1\n",
    "\n",
    "    moves = 0\n",
    "\n",
    "    moves += towerOfHanoi(n-1, source, destination, auxiliary)\n",
    "    print(\"Move disk\", n, \"from rod\", source, \"to rod\", destination)\n",
    "    moves += 1\n",
    "    moves += towerOfHanoi(n-1, auxiliary, source, destination)\n",
    "\n",
    "    return moves\n",
    "n = 3\n",
    "total_moves = towerOfHanoi(n, 1, 2, 3)\n",
    "print(\"Total moves:\", total_moves)\n"
   ]
  },
  {
   "cell_type": "markdown",
   "id": "094ca861",
   "metadata": {},
   "source": [
    "<aside>\n",
    "💡 **Question 7**\n",
    "\n",
    "Given a string **str**, the task is to print all the permutations of **str**. A **permutation** is an arrangement of all or part of a set of objects, with regard to the order of the arrangement. For instance, the words ‘bat’ and ‘tab’ represents two distinct permutation (or arrangements) of a similar three letter word.\n",
    "\n",
    "**Examples:**\n",
    "\n",
    "> Input: str = “cd”\n",
    "> \n",
    "> \n",
    "> **Output:** cd dc\n",
    "> \n",
    "> **Input:** str = “abb”\n",
    "> \n",
    "> **Output:** abb abb bab bba bab bba\n",
    "> \n",
    "</aside>"
   ]
  },
  {
   "cell_type": "code",
   "execution_count": 12,
   "id": "89d237e9",
   "metadata": {},
   "outputs": [
    {
     "name": "stdout",
     "output_type": "stream",
     "text": [
      "cd dc \n",
      "abb abb bab bba bba bab "
     ]
    }
   ],
   "source": [
    "def printPermutations(string):\n",
    "    permutations = []\n",
    "    generatePermutations(string, 0, permutations)\n",
    "    for permutation in permutations:\n",
    "        print(permutation, end=\" \")\n",
    "\n",
    "def generatePermutations(string, index, permutations):\n",
    "    if index == len(string):\n",
    "        permutations.append(string)\n",
    "        return\n",
    "\n",
    "    for i in range(index, len(string)):\n",
    "        string = swapCharacters(string, index, i)\n",
    "        generatePermutations(string, index + 1, permutations)\n",
    "        string = swapCharacters(string, index, i)\n",
    "\n",
    "def swapCharacters(string, i, j):\n",
    "    char_list = list(string)\n",
    "    char_list[i], char_list[j] = char_list[j], char_list[i]\n",
    "    return ''.join(char_list)\n",
    "printPermutations(\"cd\")  # Output: cd dc\n",
    "print()\n",
    "printPermutations(\"abb\")  # Output: abb abb bab bba bab bba\n"
   ]
  },
  {
   "cell_type": "markdown",
   "id": "060eaccd",
   "metadata": {},
   "source": [
    "<aside>\n",
    "💡 **Question 8**\n",
    "\n",
    "Given a string, count total number of consonants in it. A consonant is an English alphabet character that is not vowel (a, e, i, o and u). Examples of constants are b, c, d, f, and g.\n",
    "\n",
    "**Examples :**\n",
    "\n",
    "```\n",
    "Input : abc de\n",
    "Output : 3\n",
    "There are three consonants b, c and d.\n",
    "\n",
    "Input : geeksforgeeks portal\n",
    "Output : 12\n",
    "```\n",
    "\n",
    "</aside>"
   ]
  },
  {
   "cell_type": "code",
   "execution_count": 13,
   "id": "92fb2703",
   "metadata": {},
   "outputs": [
    {
     "name": "stdout",
     "output_type": "stream",
     "text": [
      "3\n",
      "12\n"
     ]
    }
   ],
   "source": [
    "def countConsonants(string):\n",
    "    consonants = \"bcdfghjklmnpqrstvwxyzBCDFGHJKLMNPQRSTVWXYZ\"\n",
    "    return countConsonantsRecursive(string, consonants)\n",
    "\n",
    "def countConsonantsRecursive(string, consonants):\n",
    "    if string == \"\":\n",
    "        return 0\n",
    "\n",
    "    count = countConsonantsRecursive(string[1:], consonants)\n",
    "    if string[0] in consonants:\n",
    "        count += 1\n",
    "\n",
    "    return count\n",
    "print(countConsonants(\"abc de\"))  # Output: 3\n",
    "print(countConsonants(\"geeksforgeeks portal\"))  # Output: 12\n"
   ]
  },
  {
   "cell_type": "code",
   "execution_count": null,
   "id": "a0e1885c",
   "metadata": {},
   "outputs": [],
   "source": []
  }
 ],
 "metadata": {
  "kernelspec": {
   "display_name": "Python 3 (ipykernel)",
   "language": "python",
   "name": "python3"
  },
  "language_info": {
   "codemirror_mode": {
    "name": "ipython",
    "version": 3
   },
   "file_extension": ".py",
   "mimetype": "text/x-python",
   "name": "python",
   "nbconvert_exporter": "python",
   "pygments_lexer": "ipython3",
   "version": "3.9.0"
  }
 },
 "nbformat": 4,
 "nbformat_minor": 5
}
