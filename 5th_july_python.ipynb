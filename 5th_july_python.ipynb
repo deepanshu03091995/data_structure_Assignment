{
 "cells": [
  {
   "cell_type": "markdown",
   "id": "17cb5ac4",
   "metadata": {},
   "source": [
    "1. Write a Python program to check if a given string is an anagram."
   ]
  },
  {
   "cell_type": "code",
   "execution_count": 2,
   "id": "51bc0f8b",
   "metadata": {},
   "outputs": [
    {
     "name": "stdout",
     "output_type": "stream",
     "text": [
      "True\n"
     ]
    }
   ],
   "source": [
    "def is_anagram(str1, str2):\n",
    "  \"\"\"\n",
    "  Checks if two strings are anagrams.\n",
    "\n",
    "  Args:\n",
    "    str1: The first string.\n",
    "    str2: The second string.\n",
    "\n",
    "  Returns:\n",
    "    True if the two strings are anagrams, False otherwise.\n",
    "  \"\"\"\n",
    "\n",
    "  if len(str1) != len(str2):\n",
    "    return False\n",
    "\n",
    "  char_counts = {}\n",
    "  for char in str1:\n",
    "    if char in char_counts:\n",
    "      char_counts[char] += 1\n",
    "    else:\n",
    "      char_counts[char] = 1\n",
    "\n",
    "  for char in str2:\n",
    "    if char not in char_counts:\n",
    "      return False\n",
    "    else:\n",
    "      char_counts[char] -= 1\n",
    "\n",
    "  for count in char_counts.values():\n",
    "    if count != 0:\n",
    "      return False\n",
    "\n",
    "  return True\n",
    "\n",
    "\n",
    "if __name__ == \"__main__\":\n",
    "  str1 = \"cat\"\n",
    "  str2 = \"act\"\n",
    "\n",
    "  print(is_anagram(str1, str2))\n"
   ]
  },
  {
   "cell_type": "markdown",
   "id": "c60c4e1f",
   "metadata": {},
   "source": [
    "2. Write a Python program to find the maximum and minimum values in a dictionary."
   ]
  },
  {
   "cell_type": "code",
   "execution_count": 3,
   "id": "3d894016",
   "metadata": {},
   "outputs": [
    {
     "name": "stdout",
     "output_type": "stream",
     "text": [
      "The maximum value is: 5\n",
      "The minimum value is: 1\n"
     ]
    }
   ],
   "source": [
    "def find_max_min(dict):\n",
    "  \"\"\"\n",
    "  Finds the maximum and minimum values in a dictionary.\n",
    "\n",
    "  Args:\n",
    "    dict: The dictionary.\n",
    "\n",
    "  Returns:\n",
    "    A tuple of the maximum and minimum values.\n",
    "  \"\"\"\n",
    "\n",
    "  max_value = None\n",
    "  min_value = None\n",
    "\n",
    "  for key, value in dict.items():\n",
    "    if max_value is None or value > max_value:\n",
    "      max_value = value\n",
    "\n",
    "    if min_value is None or value < min_value:\n",
    "      min_value = value\n",
    "\n",
    "  return max_value, min_value\n",
    "\n",
    "\n",
    "if __name__ == \"__main__\":\n",
    "  dict = {\"a\": 1, \"b\": 2, \"c\": 3, \"d\": 4, \"e\": 5}\n",
    "\n",
    "  max_value, min_value = find_max_min(dict)\n",
    "\n",
    "  print(\"The maximum value is:\", max_value)\n",
    "  print(\"The minimum value is:\", min_value)\n"
   ]
  },
  {
   "cell_type": "markdown",
   "id": "5ac5790e",
   "metadata": {},
   "source": [
    "3. Write a Python program to find the average of a list of numbers."
   ]
  },
  {
   "cell_type": "code",
   "execution_count": 4,
   "id": "c23627a4",
   "metadata": {},
   "outputs": [
    {
     "name": "stdout",
     "output_type": "stream",
     "text": [
      "The average is: 3.0\n"
     ]
    }
   ],
   "source": [
    "def find_average(numbers):\n",
    "  \"\"\"\n",
    "  Finds the average of a list of numbers.\n",
    "\n",
    "  Args:\n",
    "    numbers: The list of numbers.\n",
    "\n",
    "  Returns:\n",
    "    The average of the numbers.\n",
    "  \"\"\"\n",
    "\n",
    "  sum_of_numbers = 0\n",
    "  number_of_numbers = len(numbers)\n",
    "\n",
    "  for number in numbers:\n",
    "    sum_of_numbers += number\n",
    "\n",
    "  average = sum_of_numbers / number_of_numbers\n",
    "\n",
    "  return average\n",
    "\n",
    "\n",
    "if __name__ == \"__main__\":\n",
    "  numbers = [1, 2, 3, 4, 5]\n",
    "\n",
    "  average = find_average(numbers)\n",
    "\n",
    "  print(\"The average is:\", average)\n"
   ]
  },
  {
   "cell_type": "markdown",
   "id": "46cdb73b",
   "metadata": {},
   "source": [
    "4. Write a Python program to remove all vowels from a string."
   ]
  },
  {
   "cell_type": "code",
   "execution_count": 5,
   "id": "11095845",
   "metadata": {},
   "outputs": [
    {
     "name": "stdout",
     "output_type": "stream",
     "text": [
      "hll wrld\n"
     ]
    }
   ],
   "source": [
    "def remove_vowels(string):\n",
    "  \"\"\"\n",
    "  Removes all vowels from a string.\n",
    "\n",
    "  Args:\n",
    "    string: The string.\n",
    "\n",
    "  Returns:\n",
    "    A string without any vowels.\n",
    "  \"\"\"\n",
    "\n",
    "  vowels = \"aeiouAEIOU\"\n",
    "  new_string = \"\"\n",
    "\n",
    "  for char in string:\n",
    "    if char not in vowels:\n",
    "      new_string += char\n",
    "\n",
    "  return new_string\n",
    "\n",
    "\n",
    "if __name__ == \"__main__\":\n",
    "  string = \"hello world\"\n",
    "\n",
    "  new_string = remove_vowels(string)\n",
    "\n",
    "  print(new_string)\n"
   ]
  },
  {
   "cell_type": "markdown",
   "id": "514bad37",
   "metadata": {},
   "source": [
    "5. Write a Python function to calculate the factorial of a number using recursion."
   ]
  },
  {
   "cell_type": "code",
   "execution_count": 6,
   "id": "100484e1",
   "metadata": {},
   "outputs": [
    {
     "name": "stdout",
     "output_type": "stream",
     "text": [
      "The factorial of 5 is 120\n"
     ]
    }
   ],
   "source": [
    "def factorial(n):\n",
    "  \"\"\"\n",
    "  Calculates the factorial of a number using recursion.\n",
    "\n",
    "  Args:\n",
    "    n: The number.\n",
    "\n",
    "  Returns:\n",
    "    The factorial of the number.\n",
    "  \"\"\"\n",
    "\n",
    "  if n == 0:\n",
    "    return 1\n",
    "  else:\n",
    "    return n * factorial(n - 1)\n",
    "\n",
    "\n",
    "if __name__ == \"__main__\":\n",
    "  number = 5\n",
    "\n",
    "  factorial_of_number = factorial(number)\n",
    "\n",
    "  print(\"The factorial of\", number, \"is\", factorial_of_number)\n"
   ]
  },
  {
   "cell_type": "markdown",
   "id": "707bbd2f",
   "metadata": {},
   "source": [
    "6. Write a Python program to merge two unsorted lists into a single sorted list\n",
    "using the merge sort algorithm."
   ]
  },
  {
   "cell_type": "code",
   "execution_count": 8,
   "id": "92723e86",
   "metadata": {},
   "outputs": [
    {
     "name": "stdout",
     "output_type": "stream",
     "text": [
      "[1, 2, 3, 4, 5, 6, 7, 8, 9, 10]\n"
     ]
    }
   ],
   "source": [
    "def merge_sort(list1, list2):\n",
    "  \"\"\"\n",
    "  Merges two unsorted lists into a single sorted list.\n",
    "\n",
    "  Args:\n",
    "    list1: The first list.\n",
    "    list2: The second list.\n",
    "\n",
    "  Returns:\n",
    "    A single sorted list.\n",
    "  \"\"\"\n",
    "\n",
    "  if len(list1) == 0:\n",
    "    return list2\n",
    "  elif len(list2) == 0:\n",
    "    return list1\n",
    "  else:\n",
    "    mid1 = len(list1) // 2\n",
    "    mid2 = len(list2) // 2\n",
    "\n",
    "    list1_left = list1[:mid1]\n",
    "    list1_right = list1[mid1:]\n",
    "    list2_left = list2[:mid2]\n",
    "    list2_right = list2[mid2:]\n",
    "\n",
    "    list1_sorted = merge_sort(list1_left, list1_right)\n",
    "    list2_sorted = merge_sort(list2_left, list2_right)\n",
    "\n",
    "    return merge(list1_sorted, list2_sorted)\n",
    "\n",
    "\n",
    "def merge(list1, list2):\n",
    "  \"\"\"\n",
    "  Merges two sorted lists into a single sorted list.\n",
    "\n",
    "  Args:\n",
    "    list1: The first sorted list.\n",
    "    list2: The second sorted list.\n",
    "\n",
    "  Returns:\n",
    "    A single sorted list.\n",
    "  \"\"\"\n",
    "\n",
    "  merged_list = []\n",
    "  i = 0\n",
    "  j = 0\n",
    "\n",
    "  while i < len(list1) and j < len(list2):\n",
    "    if list1[i] <= list2[j]:\n",
    "      merged_list.append(list1[i])\n",
    "      i += 1\n",
    "    else:\n",
    "      merged_list.append(list2[j])\n",
    "      j += 1\n",
    "\n",
    "  merged_list += list1[i:]\n",
    "  merged_list += list2[j:]\n",
    "\n",
    "  return merged_list\n",
    "\n",
    "\n",
    "if __name__ == \"__main__\":\n",
    "  list1 = [1, 3, 5, 7, 9]\n",
    "  list2 = [2, 4, 6, 8, 10]\n",
    "\n",
    "  merged_list = merge_sort(list1, list2)\n",
    "\n",
    "  print(merged_list)\n"
   ]
  },
  {
   "cell_type": "markdown",
   "id": "ecf5e2a8",
   "metadata": {},
   "source": [
    "7. Write a Python program to find the GCD (Greatest Common Divisor) of two\n",
    "numbers."
   ]
  },
  {
   "cell_type": "code",
   "execution_count": 9,
   "id": "72bdcb99",
   "metadata": {},
   "outputs": [
    {
     "name": "stdout",
     "output_type": "stream",
     "text": [
      "The GCD of 10 and 15 is 5\n"
     ]
    }
   ],
   "source": [
    "def gcd(a, b):\n",
    "  \"\"\"\n",
    "  Finds the GCD of two numbers.\n",
    "\n",
    "  Args:\n",
    "    a: The first number.\n",
    "    b: The second number.\n",
    "\n",
    "  Returns:\n",
    "    The GCD of the two numbers.\n",
    "  \"\"\"\n",
    "\n",
    "  if a == 0:\n",
    "    return b\n",
    "  elif b == 0:\n",
    "    return a\n",
    "  else:\n",
    "    while b != 0:\n",
    "      a, b = b, a % b\n",
    "\n",
    "    return a\n",
    "\n",
    "\n",
    "if __name__ == \"__main__\":\n",
    "  a = 10\n",
    "  b = 15\n",
    "\n",
    "  gcd_of_numbers = gcd(a, b)\n",
    "\n",
    "  print(\"The GCD of\", a, \"and\", b, \"is\", gcd_of_numbers)\n"
   ]
  },
  {
   "cell_type": "markdown",
   "id": "14569a6e",
   "metadata": {},
   "source": [
    "8. Write a Python program to find the second-largest element in a list."
   ]
  },
  {
   "cell_type": "code",
   "execution_count": 11,
   "id": "2672b7e2",
   "metadata": {},
   "outputs": [
    {
     "name": "stdout",
     "output_type": "stream",
     "text": [
      "The second-largest element in the list is 7\n"
     ]
    }
   ],
   "source": [
    "def find_second_largest(list):\n",
    "  \"\"\"\n",
    "  Finds the second-largest element in a list.\n",
    "\n",
    "  Args:\n",
    "    list: The list.\n",
    "\n",
    "  Returns:\n",
    "    The second-largest element in the list.\n",
    "  \"\"\"\n",
    "\n",
    "  if len(list) < 2:\n",
    "    return None\n",
    "\n",
    "  largest_element = list[0]\n",
    "  second_largest_element = 0\n",
    "\n",
    "  for number in list:\n",
    "    if number > largest_element:\n",
    "      second_largest_element = largest_element\n",
    "      largest_element = number\n",
    "    elif number > second_largest_element:\n",
    "      second_largest_element = number\n",
    "\n",
    "  return second_largest_element\n",
    "\n",
    "\n",
    "if __name__ == \"__main__\":\n",
    "  list = [1, 4, 2, 9, 7]\n",
    "\n",
    "  second_largest_element = find_second_largest(list)\n",
    "\n",
    "  print(\"The second-largest element in the list is\", second_largest_element)\n"
   ]
  },
  {
   "cell_type": "markdown",
   "id": "39f0c4cb",
   "metadata": {},
   "source": [
    "9. Write a Python program to find the longest common subsequence between two strings using dynamic programming."
   ]
  },
  {
   "cell_type": "code",
   "execution_count": 12,
   "id": "b916eabd",
   "metadata": {},
   "outputs": [
    {
     "name": "stdout",
     "output_type": "stream",
     "text": [
      "The longest common subsequence between abcde and ace is 3\n"
     ]
    }
   ],
   "source": [
    "def find_lcs(str1, str2):\n",
    "  \"\"\"\n",
    "  Finds the longest common subsequence between two strings using dynamic programming.\n",
    "\n",
    "  Args:\n",
    "    str1: The first string.\n",
    "    str2: The second string.\n",
    "\n",
    "  Returns:\n",
    "    The longest common subsequence between the two strings.\n",
    "  \"\"\"\n",
    "\n",
    "  m = len(str1)\n",
    "  n = len(str2)\n",
    "\n",
    "  lcs_table = [[0 for i in range(n + 1)] for j in range(m + 1)]\n",
    "\n",
    "  for i in range(m + 1):\n",
    "    for j in range(n + 1):\n",
    "      if i == 0 or j == 0:\n",
    "        lcs_table[i][j] = 0\n",
    "      elif str1[i - 1] == str2[j - 1]:\n",
    "        lcs_table[i][j] = lcs_table[i - 1][j - 1] + 1\n",
    "      else:\n",
    "        lcs_table[i][j] = max(lcs_table[i - 1][j], lcs_table[i][j - 1])\n",
    "\n",
    "  return lcs_table[m][n]\n",
    "\n",
    "\n",
    "if __name__ == \"__main__\":\n",
    "  str1 = \"abcde\"\n",
    "  str2 = \"ace\"\n",
    "\n",
    "  lcs = find_lcs(str1, str2)\n",
    "\n",
    "  print(\"The longest common subsequence between\", str1, \"and\", str2, \"is\", lcs)\n"
   ]
  },
  {
   "cell_type": "code",
   "execution_count": null,
   "id": "a11f80da",
   "metadata": {},
   "outputs": [],
   "source": []
  }
 ],
 "metadata": {
  "kernelspec": {
   "display_name": "Python 3 (ipykernel)",
   "language": "python",
   "name": "python3"
  },
  "language_info": {
   "codemirror_mode": {
    "name": "ipython",
    "version": 3
   },
   "file_extension": ".py",
   "mimetype": "text/x-python",
   "name": "python",
   "nbconvert_exporter": "python",
   "pygments_lexer": "ipython3",
   "version": "3.9.0"
  }
 },
 "nbformat": 4,
 "nbformat_minor": 5
}
